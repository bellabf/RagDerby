{
  "cells": [
    {
      "cell_type": "markdown",
      "metadata": {
        "colab_type": "text",
        "id": "view-in-github"
      },
      "source": [
        "<a href=\"https://colab.research.google.com/github/bellabf/RagDerby/blob/main/RagDerby.ipynb\" target=\"_parent\"><img src=\"https://colab.research.google.com/assets/colab-badge.svg\" alt=\"Open In Colab\"/></a>"
      ]
    },
    {
      "cell_type": "markdown",
      "metadata": {
        "id": "xW2tEHGZ98gW"
      },
      "source": [
        "# Breaking Language Barriers in Sports: A Multilingual Question-Answering System for Roller Derby"
      ]
    },
    {
      "cell_type": "markdown",
      "metadata": {
        "id": "A7YVz6vyX9E9"
      },
      "source": [
        "This notebook has been contributed by **[Isabella Bicalho Frazeto](https://www.linkedin.com/in/isabella-frazeto/)** from the *Cohere For AI Community* 🏆"
      ]
    },
    {
      "cell_type": "markdown",
      "metadata": {
        "id": "LS7hL24N98ga"
      },
      "source": [
        "## Motivation\n",
        "\n",
        "Remember playing in the schoolyard?\n",
        "\n",
        "Background and speakign different languages didn't matter, and somehow everybody played coordinating complex games with ever-changing rules. A stick becomes a hockey stick, a wall becomes a goal, and hand gestures and smiles bridge any language gap.\n",
        "\n",
        "We didn't need rulebooks then – play was universal. But as adults, our relationship with sports changes.\n",
        "\n",
        "In sports, we often find **structure, safety, and community**. For mainstream sports like football or basketball, the decades of cultural integration have created a shared universal language of play.\n",
        "\n",
        "![handwritten  project overview](https://github.com/bellabf/RagDerby/blob/main/images/1.png?raw=true)\n",
        "\n",
        "But for emerging sports, culturally specific activities, or underrepresented athletics like roller derby, korfball, or sepak takraw, that transition isn't so simple. Language barriers become more than just communication hurdles – they become gatekeepers to participation, safety, and community building.\n",
        "\n",
        "### Breaking Language Barriers in Sports: Why Roller Derby?\n",
        "\n",
        "Picture this: A fast-paced sport on wheels, played across six continents, from Buenos Aires to Bangkok, Tokyo to Toronto, Moscow to Melbourne. Roller derby has evolved from its American roots into a truly global phenomenon, with over 4,000 leagues worldwide. Yet, there's a catch – the official rulebook, the very foundation of the sport, is only available in four languages: English, Spanish, French, and German.\n",
        "\n",
        "### Why not just use Google Translate?\n",
        "\n",
        "\n",
        "Well, **Context is Everything**\n",
        "   - When a player reads a machine-translated rule about a \"jam,\" are they thinking about fruit preserves or a two-minute scoring opportunity?\n",
        "   - Will the skater understand that a \"pack\" isn't something you carry on your back, but a critical group of players that defines legal gameplay?\n",
        "   - What about the translation of \"recycling\" in derby (that has nothing to do with environmental conservation)?\n",
        "\n",
        "\n",
        "## Multilingual question-answering system\n",
        "\n",
        "We need something that can handled that context and make things more digestable for the players. We can create a tool that doesn't just translate words, but translates understanding. Our goal is to make roller derby truly accessible to everyone, regardless of their native language.\n"
      ]
    },
    {
      "cell_type": "markdown",
      "metadata": {
        "id": "vg0ngWAY98gf"
      },
      "source": [
        "## Project Overview\n",
        "\n",
        "This notebook demonstrates how to build a multilingual question-answering system for sports rules that are under represented. We use the WFTDA (Women's Flat Track Derby Assiociation) rules and gameplay. Our goal is to make this exciting sport more accessible to people worldwide by breaking down language barriers. We will advanced language models and RAG (Retrieval Augmented Generation) technology to provide accurate information about roller derby in multiple languages.\n",
        "\n",
        "We will combine langchain with the brande new `c4ai-aya-23-35b` or MysteryBot to do so.\n",
        "\n",
        "![mystery bot and langchain being friends](https://github.com/bellabf/RagDerby/blob/main/images/4.png?raw=true)\n",
        "\n",
        "\n"
      ]
    },
    {
      "cell_type": "markdown",
      "metadata": {
        "id": "bIU2NPjd98gg"
      },
      "source": [
        "\n",
        "## Technical Implementation Steps\n",
        "\n",
        "### 1. Setting Up Dependencies\n",
        "First, we install and import all necessary libraries. Our system relies on:\n",
        "- `faiss-cpu` for efficient similarity search\n",
        "- `langchain`, `langchain_community`, `langchain_core` components for building our pipeline\n",
        "- `cohere` for language processing capabilities"
      ]
    },
    {
      "cell_type": "code",
      "execution_count": 1,
      "metadata": {
        "colab": {
          "base_uri": "https://localhost:8080/"
        },
        "id": "RasMQfp_98gh",
        "outputId": "7a1ae57d-2227-47e1-9809-290ac5e4de64"
      },
      "outputs": [
        {
          "name": "stdout",
          "output_type": "stream",
          "text": [
            "Requirement already satisfied: numpy in /home/isabella/miniconda3/envs/ironhack/lib/python3.12/site-packages (1.26.4)\n",
            "Requirement already satisfied: faiss-cpu in /home/isabella/miniconda3/envs/ironhack/lib/python3.12/site-packages (1.9.0)\n",
            "Requirement already satisfied: cohere in /home/isabella/miniconda3/envs/ironhack/lib/python3.12/site-packages (5.11.1)\n",
            "Requirement already satisfied: langchain in /home/isabella/miniconda3/envs/ironhack/lib/python3.12/site-packages (0.3.4)\n",
            "Requirement already satisfied: langchain-core in /home/isabella/miniconda3/envs/ironhack/lib/python3.12/site-packages (0.3.12)\n",
            "Requirement already satisfied: langchain-cohere in /home/isabella/miniconda3/envs/ironhack/lib/python3.12/site-packages (0.3.1)\n",
            "Requirement already satisfied: pydantic in /home/isabella/miniconda3/envs/ironhack/lib/python3.12/site-packages (2.9.2)\n",
            "Requirement already satisfied: packaging in /home/isabella/miniconda3/envs/ironhack/lib/python3.12/site-packages (from faiss-cpu) (24.1)\n",
            "Requirement already satisfied: fastavro<2.0.0,>=1.9.4 in /home/isabella/miniconda3/envs/ironhack/lib/python3.12/site-packages (from cohere) (1.9.7)\n",
            "Requirement already satisfied: httpx>=0.21.2 in /home/isabella/miniconda3/envs/ironhack/lib/python3.12/site-packages (from cohere) (0.27.2)\n",
            "Requirement already satisfied: httpx-sse==0.4.0 in /home/isabella/miniconda3/envs/ironhack/lib/python3.12/site-packages (from cohere) (0.4.0)\n",
            "Requirement already satisfied: parameterized<0.10.0,>=0.9.0 in /home/isabella/miniconda3/envs/ironhack/lib/python3.12/site-packages (from cohere) (0.9.0)\n",
            "Requirement already satisfied: pydantic-core<3.0.0,>=2.18.2 in /home/isabella/miniconda3/envs/ironhack/lib/python3.12/site-packages (from cohere) (2.23.4)\n",
            "Requirement already satisfied: requests<3.0.0,>=2.0.0 in /home/isabella/miniconda3/envs/ironhack/lib/python3.12/site-packages (from cohere) (2.32.3)\n",
            "Requirement already satisfied: tokenizers<1,>=0.15 in /home/isabella/miniconda3/envs/ironhack/lib/python3.12/site-packages (from cohere) (0.20.1)\n",
            "Requirement already satisfied: types-requests<3.0.0,>=2.0.0 in /home/isabella/miniconda3/envs/ironhack/lib/python3.12/site-packages (from cohere) (2.32.0.20241016)\n",
            "Requirement already satisfied: typing_extensions>=4.0.0 in /home/isabella/miniconda3/envs/ironhack/lib/python3.12/site-packages (from cohere) (4.12.2)\n",
            "Requirement already satisfied: PyYAML>=5.3 in /home/isabella/miniconda3/envs/ironhack/lib/python3.12/site-packages (from langchain) (6.0.1)\n",
            "Requirement already satisfied: SQLAlchemy<3,>=1.4 in /home/isabella/miniconda3/envs/ironhack/lib/python3.12/site-packages (from langchain) (2.0.35)\n",
            "Requirement already satisfied: aiohttp<4.0.0,>=3.8.3 in /home/isabella/miniconda3/envs/ironhack/lib/python3.12/site-packages (from langchain) (3.9.0b0)\n",
            "Requirement already satisfied: langchain-text-splitters<0.4.0,>=0.3.0 in /home/isabella/miniconda3/envs/ironhack/lib/python3.12/site-packages (from langchain) (0.3.0)\n",
            "Requirement already satisfied: langsmith<0.2.0,>=0.1.17 in /home/isabella/miniconda3/envs/ironhack/lib/python3.12/site-packages (from langchain) (0.1.136)\n",
            "Requirement already satisfied: tenacity!=8.4.0,<10,>=8.1.0 in /home/isabella/miniconda3/envs/ironhack/lib/python3.12/site-packages (from langchain) (8.2.3)\n",
            "Requirement already satisfied: jsonpatch<2.0,>=1.33 in /home/isabella/miniconda3/envs/ironhack/lib/python3.12/site-packages (from langchain-core) (1.33)\n",
            "Requirement already satisfied: langchain-experimental>=0.3.0 in /home/isabella/miniconda3/envs/ironhack/lib/python3.12/site-packages (from langchain-cohere) (0.3.2)\n",
            "Requirement already satisfied: pandas>=1.4.3 in /home/isabella/miniconda3/envs/ironhack/lib/python3.12/site-packages (from langchain-cohere) (2.2.2)\n",
            "Requirement already satisfied: tabulate<0.10.0,>=0.9.0 in /home/isabella/miniconda3/envs/ironhack/lib/python3.12/site-packages (from langchain-cohere) (0.9.0)\n",
            "Requirement already satisfied: annotated-types>=0.6.0 in /home/isabella/miniconda3/envs/ironhack/lib/python3.12/site-packages (from pydantic) (0.7.0)\n",
            "Requirement already satisfied: attrs>=17.3.0 in /home/isabella/miniconda3/envs/ironhack/lib/python3.12/site-packages (from aiohttp<4.0.0,>=3.8.3->langchain) (23.1.0)\n",
            "Requirement already satisfied: multidict<7.0,>=4.5 in /home/isabella/miniconda3/envs/ironhack/lib/python3.12/site-packages (from aiohttp<4.0.0,>=3.8.3->langchain) (6.1.0)\n",
            "Requirement already satisfied: yarl<2.0,>=1.0 in /home/isabella/miniconda3/envs/ironhack/lib/python3.12/site-packages (from aiohttp<4.0.0,>=3.8.3->langchain) (1.13.1)\n",
            "Requirement already satisfied: frozenlist>=1.1.1 in /home/isabella/miniconda3/envs/ironhack/lib/python3.12/site-packages (from aiohttp<4.0.0,>=3.8.3->langchain) (1.4.1)\n",
            "Requirement already satisfied: aiosignal>=1.1.2 in /home/isabella/miniconda3/envs/ironhack/lib/python3.12/site-packages (from aiohttp<4.0.0,>=3.8.3->langchain) (1.3.1)\n",
            "Requirement already satisfied: anyio in /home/isabella/miniconda3/envs/ironhack/lib/python3.12/site-packages (from httpx>=0.21.2->cohere) (4.6.0)\n",
            "Requirement already satisfied: certifi in /home/isabella/miniconda3/envs/ironhack/lib/python3.12/site-packages (from httpx>=0.21.2->cohere) (2024.8.30)\n",
            "Requirement already satisfied: httpcore==1.* in /home/isabella/miniconda3/envs/ironhack/lib/python3.12/site-packages (from httpx>=0.21.2->cohere) (1.0.6)\n",
            "Requirement already satisfied: idna in /home/isabella/miniconda3/envs/ironhack/lib/python3.12/site-packages (from httpx>=0.21.2->cohere) (3.7)\n",
            "Requirement already satisfied: sniffio in /home/isabella/miniconda3/envs/ironhack/lib/python3.12/site-packages (from httpx>=0.21.2->cohere) (1.3.1)\n",
            "Requirement already satisfied: h11<0.15,>=0.13 in /home/isabella/miniconda3/envs/ironhack/lib/python3.12/site-packages (from httpcore==1.*->httpx>=0.21.2->cohere) (0.14.0)\n",
            "Requirement already satisfied: jsonpointer>=1.9 in /home/isabella/miniconda3/envs/ironhack/lib/python3.12/site-packages (from jsonpatch<2.0,>=1.33->langchain-core) (3.0.0)\n",
            "Requirement already satisfied: langchain-community<0.4.0,>=0.3.0 in /home/isabella/miniconda3/envs/ironhack/lib/python3.12/site-packages (from langchain-experimental>=0.3.0->langchain-cohere) (0.3.3)\n",
            "Requirement already satisfied: orjson<4.0.0,>=3.9.14 in /home/isabella/miniconda3/envs/ironhack/lib/python3.12/site-packages (from langsmith<0.2.0,>=0.1.17->langchain) (3.10.9)\n",
            "Requirement already satisfied: requests-toolbelt<2.0.0,>=1.0.0 in /home/isabella/miniconda3/envs/ironhack/lib/python3.12/site-packages (from langsmith<0.2.0,>=0.1.17->langchain) (1.0.0)\n",
            "Requirement already satisfied: python-dateutil>=2.8.2 in /home/isabella/miniconda3/envs/ironhack/lib/python3.12/site-packages (from pandas>=1.4.3->langchain-cohere) (2.9.0.post0)\n",
            "Requirement already satisfied: pytz>=2020.1 in /home/isabella/miniconda3/envs/ironhack/lib/python3.12/site-packages (from pandas>=1.4.3->langchain-cohere) (2024.1)\n",
            "Requirement already satisfied: tzdata>=2022.7 in /home/isabella/miniconda3/envs/ironhack/lib/python3.12/site-packages (from pandas>=1.4.3->langchain-cohere) (2023.3)\n",
            "Requirement already satisfied: charset-normalizer<4,>=2 in /home/isabella/miniconda3/envs/ironhack/lib/python3.12/site-packages (from requests<3.0.0,>=2.0.0->cohere) (3.3.2)\n",
            "Requirement already satisfied: urllib3<3,>=1.21.1 in /home/isabella/miniconda3/envs/ironhack/lib/python3.12/site-packages (from requests<3.0.0,>=2.0.0->cohere) (2.2.2)\n",
            "Requirement already satisfied: greenlet!=0.4.17 in /home/isabella/miniconda3/envs/ironhack/lib/python3.12/site-packages (from SQLAlchemy<3,>=1.4->langchain) (3.1.1)\n",
            "Requirement already satisfied: huggingface-hub<1.0,>=0.16.4 in /home/isabella/miniconda3/envs/ironhack/lib/python3.12/site-packages (from tokenizers<1,>=0.15->cohere) (0.26.1)\n",
            "Requirement already satisfied: filelock in /home/isabella/miniconda3/envs/ironhack/lib/python3.12/site-packages (from huggingface-hub<1.0,>=0.16.4->tokenizers<1,>=0.15->cohere) (3.16.1)\n",
            "Requirement already satisfied: fsspec>=2023.5.0 in /home/isabella/miniconda3/envs/ironhack/lib/python3.12/site-packages (from huggingface-hub<1.0,>=0.16.4->tokenizers<1,>=0.15->cohere) (2024.6.1)\n",
            "Requirement already satisfied: tqdm>=4.42.1 in /home/isabella/miniconda3/envs/ironhack/lib/python3.12/site-packages (from huggingface-hub<1.0,>=0.16.4->tokenizers<1,>=0.15->cohere) (4.66.5)\n",
            "Requirement already satisfied: dataclasses-json<0.7,>=0.5.7 in /home/isabella/miniconda3/envs/ironhack/lib/python3.12/site-packages (from langchain-community<0.4.0,>=0.3.0->langchain-experimental>=0.3.0->langchain-cohere) (0.6.7)\n",
            "Requirement already satisfied: pydantic-settings<3.0.0,>=2.4.0 in /home/isabella/miniconda3/envs/ironhack/lib/python3.12/site-packages (from langchain-community<0.4.0,>=0.3.0->langchain-experimental>=0.3.0->langchain-cohere) (2.6.0)\n",
            "Requirement already satisfied: six>=1.5 in /home/isabella/miniconda3/envs/ironhack/lib/python3.12/site-packages (from python-dateutil>=2.8.2->pandas>=1.4.3->langchain-cohere) (1.16.0)\n",
            "Requirement already satisfied: marshmallow<4.0.0,>=3.18.0 in /home/isabella/miniconda3/envs/ironhack/lib/python3.12/site-packages (from dataclasses-json<0.7,>=0.5.7->langchain-community<0.4.0,>=0.3.0->langchain-experimental>=0.3.0->langchain-cohere) (3.23.0)\n",
            "Requirement already satisfied: typing-inspect<1,>=0.4.0 in /home/isabella/miniconda3/envs/ironhack/lib/python3.12/site-packages (from dataclasses-json<0.7,>=0.5.7->langchain-community<0.4.0,>=0.3.0->langchain-experimental>=0.3.0->langchain-cohere) (0.9.0)\n",
            "Requirement already satisfied: python-dotenv>=0.21.0 in /home/isabella/miniconda3/envs/ironhack/lib/python3.12/site-packages (from pydantic-settings<3.0.0,>=2.4.0->langchain-community<0.4.0,>=0.3.0->langchain-experimental>=0.3.0->langchain-cohere) (1.0.1)\n",
            "Requirement already satisfied: mypy-extensions>=0.3.0 in /home/isabella/miniconda3/envs/ironhack/lib/python3.12/site-packages (from typing-inspect<1,>=0.4.0->dataclasses-json<0.7,>=0.5.7->langchain-community<0.4.0,>=0.3.0->langchain-experimental>=0.3.0->langchain-cohere) (1.0.0)\n"
          ]
        }
      ],
      "source": [
        "!pip install numpy faiss-cpu cohere langchain langchain-core langchain-cohere pydantic "
      ]
    },
    {
      "cell_type": "markdown",
      "metadata": {
        "id": "Kylu834X98gj"
      },
      "source": [
        "### Setting up the imports"
      ]
    },
    {
      "cell_type": "code",
      "execution_count": 2,
      "metadata": {
        "id": "_nslphGa98gk"
      },
      "outputs": [],
      "source": [
        "import os\n",
        "import cohere\n",
        "import faiss\n",
        "import numpy as np\n",
        "\n",
        "from typing import Any, List, Optional\n",
        "from pprint import pprint\n",
        "from getpass import getpass\n",
        "from operator import itemgetter\n",
        "\n",
        "from pydantic import Field, PrivateAttr\n",
        "\n",
        "from langchain.llms.base import LLM\n",
        "from langchain.callbacks.manager import CallbackManagerForLLMRun\n",
        "from langchain.prompts import PromptTemplate, FewShotPromptTemplate\n",
        "from langchain.schema.runnable import RunnableParallel, RunnablePassthrough\n",
        "from langchain.chains import RetrievalQA\n",
        "from langchain.retrievers.contextual_compression import ContextualCompressionRetriever\n",
        "\n",
        "from langchain_text_splitters import RecursiveCharacterTextSplitter\n",
        "\n",
        "from langchain_cohere.llms import Cohere\n",
        "from langchain_cohere import CohereRerank\n",
        "\n",
        "from langchain_core.retrievers import BaseRetriever\n",
        "from langchain_core.documents import Document\n",
        "from langchain_core.callbacks.manager import CallbackManagerForRetrieverRun"
      ]
    },
    {
      "cell_type": "markdown",
      "metadata": {
        "id": "bX7fP-xt98gl"
      },
      "source": [
        "\n",
        "### 2. API Configuration\n",
        "We set up our connection to Cohere's API. This gives us access to powerful language models that will handle our multilingual processing needs.\n"
      ]
    },
    {
      "cell_type": "code",
      "execution_count": 3,
      "metadata": {
        "colab": {
          "base_uri": "https://localhost:8080/"
        },
        "id": "_aCOtSkr98gl",
        "outputId": "64d58fcf-0d13-4cce-c247-93f448e22315"
      },
      "outputs": [],
      "source": [
        "api_key = getpass(\"Please enter your Cohere API key: \")\n",
        "\n",
        "os.environ[\"COHERE_API_KEY\"] = api_key"
      ]
    },
    {
      "cell_type": "markdown",
      "metadata": {
        "id": "yyAz0iqy98gn"
      },
      "source": [
        "### 3. Custom Implementations\n",
        "We will create a couple of custom elements:\n",
        "\n",
        "\n",
        "*   A custom wrapper for Cohere's API `CohereLLM`\n",
        "*   A Faiss retriever `FAISSRetriever`\n",
        "*   Load documents `load_documents`\n",
        "\n",
        "One of these things are not like the others 🤔"
      ]
    },
    {
      "cell_type": "code",
      "execution_count": 4,
      "metadata": {
        "id": "a6yHdExE98gn"
      },
      "outputs": [],
      "source": [
        "# Custom wrapper\n",
        "class CohereLLM(LLM):\n",
        "    \"\"\"Custom LLM wrapper for Cohere's API.\"\"\"\n",
        "\n",
        "    model_name: str = Field(..., description=\"The name of the Cohere model to use\")\n",
        "    temperature: float = Field(default=0.7, description=\"Sampling temperature\")\n",
        "    max_tokens: int = Field(\n",
        "        default=256, description=\"Maximum number of tokens to generate\"\n",
        "    )\n",
        "\n",
        "    _client: Any = PrivateAttr()\n",
        "\n",
        "    def __init__(self, api_key: str, **kwargs):\n",
        "        \"\"\"Initialize the Cohere client.\"\"\"\n",
        "        super().__init__(**kwargs)\n",
        "        self._client = cohere.Client(api_key)\n",
        "\n",
        "    @property\n",
        "    def _llm_type(self) -> str:\n",
        "        \"\"\"Return type of LLM.\"\"\"\n",
        "        return \"cohere_custom\"\n",
        "\n",
        "    def _call(\n",
        "        self,\n",
        "        prompt: str,\n",
        "        stop: Optional[List[str]] = None,\n",
        "        run_manager: Optional[CallbackManagerForLLMRun] = None,\n",
        "        **kwargs: Any,\n",
        "    ) -> str:\n",
        "        \"\"\"Execute the text generation with Cohere.\"\"\"\n",
        "        try:\n",
        "            response = self._client.generate(\n",
        "                prompt=prompt,\n",
        "                model=self.model_name,\n",
        "                temperature=self.temperature,\n",
        "                max_tokens=self.max_tokens,\n",
        "            )\n",
        "            # Get the first generated text\n",
        "            if response.generations:\n",
        "                return response.generations[0].text\n",
        "            return \"\"\n",
        "        except Exception as e:\n",
        "            raise ValueError(f\"Error calling Cohere API: {str(e)}\")\n",
        "\n",
        "\n",
        "# Create a retriever class\n",
        "class FAISSRetriever(BaseRetriever):\n",
        "    faiss_index: Any = Field(description=\"FAISS index for similarity search\")\n",
        "    stored_texts: List[Document] = Field(description=\"List of stored documents\")\n",
        "    client: Any = Field(description=\"Cohere client instance\")\n",
        "\n",
        "    @classmethod\n",
        "    def from_params(cls, index: Any, texts: List[Document], client: Any) -> \"FAISSRetriever\":\n",
        "        return cls(\n",
        "            faiss_index=index,\n",
        "            stored_texts=texts,\n",
        "            client=client\n",
        "        )\n",
        "\n",
        "    def _get_relevant_documents(\n",
        "        self, query: str, *, run_manager: CallbackManagerForRetrieverRun\n",
        "    ) -> List[Document]:\n",
        "        query_embedding = self.client.embed(\n",
        "            texts=[query],\n",
        "            model='embed-english-v3.0',\n",
        "            input_type='search_query'\n",
        "        ).embeddings[0]\n",
        "\n",
        "        _, indices = self.faiss_index.search(\n",
        "            np.array([query_embedding]).astype('float32'),\n",
        "            6  # k=6\n",
        "        )\n",
        "        return [self.stored_texts[i] for i in indices[0]]\n",
        "\n",
        "def load_document(file_path: str) -> Document:\n",
        "    \"\"\"Load a text file and return a Document object.\"\"\"\n",
        "    try:\n",
        "        with open(file_path, 'r', encoding='utf-8') as file:\n",
        "            text = file.read()\n",
        "        return Document(page_content=text)\n",
        "    except UnicodeDecodeError:\n",
        "        # Fallback to latin-1 if UTF-8 fails\n",
        "        with open(file_path, 'r', encoding='latin-1') as file:\n",
        "            text = file.read()\n",
        "        return Document(page_content=text)\n"
      ]
    },
    {
      "cell_type": "markdown",
      "metadata": {
        "id": "gNU9URQW98go"
      },
      "source": [
        "\n",
        "##### Here is a base overview of how to use `CohereLLM`"
      ]
    },
    {
      "cell_type": "code",
      "execution_count": 5,
      "metadata": {
        "colab": {
          "base_uri": "https://localhost:8080/"
        },
        "id": "HbNeyJBC98gp",
        "outputId": "2888ceef-a139-4e46-aaa7-5a0fb9bd56ed"
      },
      "outputs": [
        {
          "name": "stdout",
          "output_type": "stream",
          "text": [
            "('Sports have a unique ability to bring people together in numerous ways. Here '\n",
            " 'are two significant reasons:\\n'\n",
            " '\\n'\n",
            " '1. **Common Interest and Identity**: Sports provide a shared interest and a '\n",
            " \"sense of identity for people from diverse backgrounds. Whether it's \"\n",
            " 'supporting a local team, participating in a sport, or simply enjoying a '\n",
            " 'game, sports fans and athletes often find themselves connected through a '\n",
            " 'common passion. This shared interest transcends social, cultural, and '\n",
            " 'economic barriers, fostering a sense of community and unity. For example, '\n",
            " 'people from different neighborhoods or countries can come together to cheer '\n",
            " 'for their favorite team, creating a bond based on their collective love for '\n",
            " 'the sport.\\n'\n",
            " '\\n'\n",
            " '2. **Teamwork and Collaboration**: Many sports are team-based, which '\n",
            " 'encourages collaboration, communication, and cooperation. Playing or '\n",
            " 'coaching a team sport requires individuals to work together towards a common '\n",
            " 'goal, such as winning a game or achieving a personal record. This '\n",
            " 'collaborative nature of sports teaches valuable lessons in teamwork, '\n",
            " 'leadership, and conflict resolution. Teammates learn to trust, support, and '\n",
            " 'rely on each other, which can extend beyond the sports field and contribute '\n",
            " 'to stronger social connections and a sense of camaraderie in various aspects '\n",
            " 'of life.\\n'\n",
            " '\\n'\n",
            " 'These reasons highlight the social and interpersonal benefits of sports, '\n",
            " 'demonstrating how they can serve as a powerful force for bringing people '\n",
            " 'together and fostering positive relationships.')\n"
          ]
        }
      ],
      "source": [
        "# Declare our model\n",
        "llm = CohereLLM(\n",
        "    api_key=api_key, model_name=\"mystery-model\", temperature=0.8, max_tokens=1000\n",
        ")\n",
        "\n",
        "# Prompt template\n",
        "prompt = PromptTemplate(input_variables=[\"task\"], template=\"{task}\")\n",
        "\n",
        "# Basic chain\n",
        "chain = prompt | llm\n",
        "response = chain.invoke(input=\"Give two reasons why sports bring people together!\")\n",
        "pprint(response)"
      ]
    },
    {
      "cell_type": "markdown",
      "metadata": {
        "id": "sPKpX1Q698gr"
      },
      "source": [
        "##### Basics check ✅\n",
        "\n",
        "Once we have the basic syntax, we can move on to creating the chains we will use for the multilingual q&a system. We will use five chains in this project.\n",
        "\n",
        "![chains](https://github.com/bellabf/RagDerby/blob/main/images/2.png?raw=true)\n",
        "\n",
        "### 4. Language Detection System\n",
        "We implement a language detection system that can automatically identify the input language of user queries. We do this to determine when a translation is needed."
      ]
    },
    {
      "cell_type": "code",
      "execution_count": 6,
      "metadata": {
        "colab": {
          "base_uri": "https://localhost:8080/"
        },
        "id": "Sxu_1C4498gs",
        "outputId": "a5433853-e581-4cb0-f21f-52ba1beccb36"
      },
      "outputs": [
        {
          "name": "stdout",
          "output_type": "stream",
          "text": [
            "'Dutch'\n"
          ]
        }
      ],
      "source": [
        "language_detection_prompt = PromptTemplate(\n",
        "    input_variables=[\"text\"],\n",
        "    template=\"\"\"\n",
        "    Given the following text, identify the language it is written in:\n",
        "\n",
        "    Text: \"{text}\"\n",
        "\n",
        "    Please respond with the name of the language only.\n",
        "    \"\"\",\n",
        ")\n",
        "\n",
        "chain_detect = language_detection_prompt | llm\n",
        "response = chain_detect.invoke(input=\"Hoe lang blijft een speler in de penaultybox?\")\n",
        "pprint(response)"
      ]
    },
    {
      "cell_type": "markdown",
      "metadata": {
        "id": "whMgs21j98gt"
      },
      "source": [
        "\n",
        "### 5. Translating user queries from any supported language to English\n",
        "\n",
        "For both translating chains, we will use Few-Shot Prompting."
      ]
    },
    {
      "cell_type": "code",
      "execution_count": 7,
      "metadata": {
        "colab": {
          "base_uri": "https://localhost:8080/"
        },
        "id": "PiKbt-U698gt",
        "outputId": "23e661be-cf24-41e6-fedf-93f2e2227290"
      },
      "outputs": [
        {
          "name": "stdout",
          "output_type": "stream",
          "text": [
            "'How long does a match last?'\n"
          ]
        }
      ],
      "source": [
        "examples = [\n",
        "    {\"question\": \"Qual o papel da pivot?\", \"answer\": \"What is the pivot's role?\"},\n",
        "    {\n",
        "        \"question\": \"Come si gioca a roller derby?\",\n",
        "        \"answer\": \"How do you play roller derby?\",\n",
        "    },\n",
        "    {\"question\": \"Qui est la jammeneuse?\", \"answer\": \"Who is the jammer?\"},\n",
        "]\n",
        "\n",
        "example_template = \"\"\"\n",
        "Question: {question}\n",
        "English: {answer}\"\"\"\n",
        "\n",
        "example_prompt_to_en = PromptTemplate(\n",
        "    input_variables=[\"question\", \"answer\"], template=example_template\n",
        ")\n",
        "\n",
        "# Define the few-shot prompt\n",
        "few_shot_prompt_to_en = FewShotPromptTemplate(\n",
        "    examples=examples,\n",
        "    example_prompt=example_prompt_to_en,\n",
        "    prefix=\"Here are some examples of English translations:\",\n",
        "    suffix=\"\\nQuestion: {question}\\nEnglish:\",\n",
        "    input_variables=[\"question\"],\n",
        ")\n",
        "\n",
        "\n",
        "chain_to_en = few_shot_prompt_to_en | llm\n",
        "\n",
        "response = chain_to_en.invoke(input={\"question\": \"Jak długo trwa mecz?\"})  # polish\n",
        "pprint(response)"
      ]
    },
    {
      "cell_type": "markdown",
      "metadata": {
        "id": "z2qY9IfU98gu"
      },
      "source": [
        "\n",
        "### 6. Building the RAG System\n",
        "\n",
        "The Retrieval Augmented Generation system combines:\n",
        "- Document loading and splitting for roller derby content\n",
        "- FAISS vector store\n",
        "- Contextual compression\n",
        "- Question-answering\n",
        "Adding contextual compression reduce hallucination in our early experiment setup.\n",
        "\n",
        "[If you cannot find the output.txt, please redownload it in here](https://github.com/bellabf/RagDerby/blob/main/data/output.txt)"
      ]
    },
    {
      "cell_type": "code",
      "execution_count": 8,
      "metadata": {
        "id": "pCsqh6KFqaom"
      },
      "outputs": [],
      "source": [
        "# Load and split document\n",
        "doc = load_document(\"data/output.txt\")\n",
        "text_splitter = RecursiveCharacterTextSplitter(chunk_size=500, chunk_overlap=100, add_start_index=True)\n",
        "texts = text_splitter.split_documents([doc])\n",
        "\n",
        "# Initialize Cohere c\n",
        "co = cohere.Client(api_key)\n",
        "\n",
        "# Create base retriever using FAISS\n",
        "embeddings = []\n",
        "raw_texts = [doc.page_content for doc in texts]\n",
        "response = co.embed(texts=raw_texts, model='embed-english-v3.0', input_type='search_document')\n",
        "embeddings = response.embeddings\n",
        "\n",
        "# Initialize FAISS\n",
        "embedding_dim = len(embeddings[0])\n",
        "index = faiss.IndexFlatL2(embedding_dim)\n",
        "index.add(np.array(embeddings).astype('float32'))\n",
        "\n",
        "# Create the base retriever\n",
        "base_retriever = FAISSRetriever.from_params(index, texts, co)\n",
        "\n",
        "# Create compression retriever using ContextualCompressionRetriever\n",
        "compressor = CohereRerank(model=\"rerank-english-v3.0\")\n",
        "compression_retriever = ContextualCompressionRetriever(\n",
        "    base_retriever=base_retriever,\n",
        "    base_compressor=compressor\n",
        ")\n",
        "\n",
        "# Question-answering chain\n",
        "chain_rag = RetrievalQA.from_chain_type(\n",
        "    llm=Cohere(temperature=0),\n",
        "    retriever=compression_retriever\n",
        ")\n"
      ]
    },
    {
      "cell_type": "code",
      "execution_count": 9,
      "metadata": {
        "colab": {
          "base_uri": "https://localhost:8080/"
        },
        "id": "xhTSdERf98gu",
        "outputId": "77a898d8-f5ca-4c46-f54d-64240bb91097"
      },
      "outputs": [
        {
          "name": "stdout",
          "output_type": "stream",
          "text": [
            "(' A complete roller derby game consists of two 30-minute periods with a '\n",
            " 'halftime between them and lasts for 60 minutes of play. The periods are '\n",
            " 'broken into 2 minute jams that may be called off prior to two minutes. At '\n",
            " 'least 30 seconds must elapse between jams. ')\n"
          ]
        }
      ],
      "source": [
        "results = chain_rag.invoke({\"query\": \"How long does roller derby last?\"})\n",
        "pprint(results[\"result\"])"
      ]
    },
    {
      "cell_type": "markdown",
      "metadata": {
        "id": "PwLL2JUd98gv"
      },
      "source": [
        "\n",
        "### 5.Translating responses from English back to the user's original language\n",
        "\n",
        "We do this to ensure accurate information retrieval while maintaining natural dialogue in the user's preferred language."
      ]
    },
    {
      "cell_type": "code",
      "execution_count": 10,
      "metadata": {
        "colab": {
          "base_uri": "https://localhost:8080/"
        },
        "id": "rxy0AI3L98gv",
        "outputId": "0d4b8cc2-c533-44b6-83db-d2b5ba8dcce3"
      },
      "outputs": [
        {
          "name": "stdout",
          "output_type": "stream",
          "text": [
            "'Como eu identifico os árbitros?'\n"
          ]
        }
      ],
      "source": [
        "examples = [\n",
        "    {\n",
        "        \"input\": \"Qual o papel da pivot?\",\n",
        "        \"language\": \"Portuguese\",\n",
        "        \"translation\": \"What is the pivot's role?\",\n",
        "    },\n",
        "    {\n",
        "        \"input\": \"Come si gioca a roller derby?\",\n",
        "        \"language\": \"Italian\",\n",
        "        \"translation\": \"How do you play roller derby?\",\n",
        "    },\n",
        "    {\n",
        "        \"input\": \"What is a team timeout?\",\n",
        "        \"language\": \"English\",\n",
        "        \"translation\": \"What is a team timeout?\",\n",
        "    },\n",
        "    {\n",
        "        \"input\": \"How long does a penalty last?\",\n",
        "        \"language\": \"English\",\n",
        "        \"translation\": \"How long does a penalty last?\",\n",
        "    },\n",
        "]\n",
        "\n",
        "# Template for each example\n",
        "example_template = \"\"\"\n",
        "Input: {input}\n",
        "Language: {language}\n",
        "Translation: {translation}\"\"\"\n",
        "\n",
        "example_prompt_to_target = PromptTemplate(\n",
        "    input_variables=[\"input\", \"language\", \"translation\"], template=example_template\n",
        ")\n",
        "\n",
        "few_shot_prompt_to_target = FewShotPromptTemplate(\n",
        "    examples=examples,\n",
        "    example_prompt=example_prompt_to_target,\n",
        "    prefix=\"\"\"You are a language translator. Provide the translation of the input only. Here are some examples:\"\"\",\n",
        "    suffix=\"\"\"\n",
        "Input: {input_text}\n",
        "Language: {target_language}\n",
        "Translation:\"\"\",\n",
        "    input_variables=[\"input_text\", \"target_language\"],\n",
        ")\n",
        "\n",
        "\n",
        "chain_to_target = few_shot_prompt_to_target | llm\n",
        "\n",
        "response = chain_to_target.invoke(\n",
        "    input={\n",
        "        \"input_text\": \"How do I indentify the referees?\",\n",
        "        \"target_language\": \"portuguese\",\n",
        "    }\n",
        ")\n",
        "pprint(response)"
      ]
    },
    {
      "cell_type": "markdown",
      "metadata": {
        "id": "yaqNNpfo98gw"
      },
      "source": [
        "##### Chains ✅\n",
        "\n",
        "Now, we just need to put them together.\n",
        "\n",
        "#### Let's understand step by step\n",
        "\n",
        "The ouput of one chain is the input of the next.\n",
        "Let'see the example below."
      ]
    },
    {
      "cell_type": "code",
      "execution_count": 11,
      "metadata": {
        "colab": {
          "base_uri": "https://localhost:8080/",
          "height": 140
        },
        "id": "_gFtiyxi98gw",
        "outputId": "a9bc42bf-1f97-41e2-cf8a-011cf3eb4d44"
      },
      "outputs": [
        {
          "data": {
            "text/plain": [
              "'How is the roller derby track?\\n\\nLet\\'s break down the translations:\\n\\n1. **Qual o papel da pivot?**\\n   - English: What is the pivot\\'s role?\\n   - Here, \"pivot\" refers to a specific position or player in roller derby.\\n\\n2. **Come si gioca a roller derby?**\\n   - English: How do you play roller derby?\\n   - This translates the question about the rules or method of playing roller derby.\\n\\n3. **Qui est la jammeneuse?**\\n   - English: Who is the jammer?\\n   - \"Jammeneuse\" is a French term adopted into roller derby to refer to the \"jammer\" position, similar to the English term.\\n\\n4. **Como é a pista de roller derby?**\\n   - English: How is the roller derby track?\\n   - This asks about the layout, design, or features of the roller derby track.'"
            ]
          },
          "execution_count": 11,
          "metadata": {},
          "output_type": "execute_result"
        }
      ],
      "source": [
        "chain_to_en.invoke(\"Como é a pista de roller derby?\")"
      ]
    },
    {
      "cell_type": "code",
      "execution_count": 12,
      "metadata": {
        "colab": {
          "base_uri": "https://localhost:8080/"
        },
        "id": "1gHHaAeAHBKm",
        "outputId": "ad7f8d8a-d517-4ce9-96bd-20f47faea995"
      },
      "outputs": [
        {
          "name": "stderr",
          "output_type": "stream",
          "text": [
            "/tmp/ipykernel_342690/1091893329.py:1: LangChainDeprecationWarning: The method `Chain.__call__` was deprecated in langchain 0.1.0 and will be removed in 1.0. Use :meth:`~invoke` instead.\n",
            "  chain_rag(chain_to_en.invoke(\"Como é a pista de roller derby?\"))\n"
          ]
        },
        {
          "data": {
            "text/plain": [
              "{'query': 'How is the roller derby track?\\n\\nLet\\'s break down the translations:\\n\\n1. **Qual o papel da pivot?**\\n   - English: What is the pivot\\'s role?\\n   - Here, \"pivot\" refers to a specific position in roller derby, similar to how it\\'s used in other sports (e.g., basketball).\\n\\n2. **Come si gioca a roller derby?**\\n   - English: How do you play roller derby?\\n   - This translates the question about the rules or general gameplay of roller derby.\\n\\n3. **Qui est la jammeneuse?**\\n   - English: Who is the jammer?\\n   - In roller derby, a \"jammer\" is a player with a specific role. This question asks for the identity of that player.\\n\\n4. **Como é a pista de roller derby?**\\n   - English: How is the roller derby track?\\n   - This inquires about the design, layout, or features of the roller derby track.',\n",
              " 'result': ' The track is flat and oval in shape. There are two jammer lines, one at each end of the track, and a pivot line at the center. The rollers skate around the track in a counter-clockwise direction. \\nI cannot determine the exact shape of the track from the given information, but I can assure you that it is flat. \\n\\nIf you have any more information on the game, I would be happy to help define certain aspects of the track. '}"
            ]
          },
          "execution_count": 12,
          "metadata": {},
          "output_type": "execute_result"
        }
      ],
      "source": [
        "chain_rag(chain_to_en.invoke(\"Como é a pista de roller derby?\"))"
      ]
    },
    {
      "cell_type": "markdown",
      "metadata": {
        "id": "sdSZO4uf98gy"
      },
      "source": [
        "\n",
        "### 7. Multi-Step Processing Pipeline\n",
        "\n",
        "\n",
        "Our final pipeline integrates all components:\n",
        "1. Detect input language\n",
        "2. Translate query to English if needed\n",
        "3. Retrieve relevant roller derby information\n",
        "4. Translate response back to original language\n",
        "5. Deliver natural, accurate responses\n"
      ]
    },
    {
      "cell_type": "code",
      "execution_count": 13,
      "metadata": {
        "id": "i_vq-6v898gy"
      },
      "outputs": [],
      "source": [
        "# Create the pipeline using your existing chains\n",
        "derby_qa_pipeline = (\n",
        "    # First detect language\n",
        "    RunnableParallel(\n",
        "        original_query=RunnablePassthrough(),\n",
        "        detected_language=lambda x: chain_detect.invoke({\"text\": x}),\n",
        "    )\n",
        "    |\n",
        "    # Then handle translation to English\n",
        "    RunnableParallel(\n",
        "        original_query=itemgetter(\"original_query\"),\n",
        "        detected_language=itemgetter(\"detected_language\"),\n",
        "        translated_query=lambda x: (\n",
        "            chain_to_en.invoke({\"question\": x[\"original_query\"]})\n",
        "            if x[\"detected_language\"].lower().strip() != \"english\"\n",
        "            else x[\"original_query\"]\n",
        "        ),\n",
        "    )\n",
        "    |\n",
        "    # Use RAG to get answer in English\n",
        "    RunnableParallel(\n",
        "        query=itemgetter(\"translated_query\"),\n",
        "        answer=lambda x: chain_rag.invoke({\"query\": x[\"translated_query\"]}),\n",
        "        original_query=itemgetter(\"original_query\"),\n",
        "        detected_language=itemgetter(\"detected_language\"),\n",
        "    )\n",
        "    |\n",
        "    # Translate answer back to original language\n",
        "    RunnableParallel(\n",
        "        original_query=itemgetter(\"original_query\"),\n",
        "        detected_language=itemgetter(\"detected_language\"),\n",
        "        final_answer=lambda x: (\n",
        "            chain_to_target.invoke(\n",
        "                {\"input_text\": x[\"answer\"], \"target_language\": x[\"detected_language\"]}\n",
        "            )\n",
        "            if x[\"detected_language\"].lower().strip() != \"english\"\n",
        "            else x[\"answer\"]\n",
        "        ),\n",
        "    )\n",
        ")"
      ]
    },
    {
      "cell_type": "markdown",
      "metadata": {
        "id": "Z9afxvYu98gz"
      },
      "source": [
        "\n",
        "### 8. Example Queries and Testing\n",
        "\n",
        "We will the functions `process_derby_query` to helps see what the pipeline is doing."
      ]
    },
    {
      "cell_type": "code",
      "execution_count": 14,
      "metadata": {
        "id": "C4ACue3h98gz"
      },
      "outputs": [],
      "source": [
        "def process_derby_query(query: str):\n",
        "    try:\n",
        "        result = derby_qa_pipeline.invoke(query)\n",
        "\n",
        "        print(\"\\nQuery Processing Steps:\")\n",
        "        print(f\"1. Original Query: {result['original_query']}\")\n",
        "        print(f\"2. Detected Language: {result['detected_language']}\")\n",
        "        print(\n",
        "            f\"3. Final Answer in {result['detected_language']}: {result['final_answer']}\"\n",
        "        )\n",
        "\n",
        "    except Exception as e:\n",
        "        print(f\"Error in pipeline: {str(e)}\")\n"
      ]
    },
    {
      "cell_type": "code",
      "execution_count": 15,
      "metadata": {
        "colab": {
          "base_uri": "https://localhost:8080/"
        },
        "id": "plLnIEQz98gz",
        "outputId": "11a80498-f09e-4f34-8c42-db1fc067f5fc"
      },
      "outputs": [
        {
          "name": "stdout",
          "output_type": "stream",
          "text": [
            "\n",
            "Query Processing Steps:\n",
            "1. Original Query: What is roller derby?\n",
            "2. Detected Language: English\n",
            "3. Final Answer in English: {'query': 'What is roller derby?', 'result': \" Roller derby is a full-contact sport played on a flat oval track, involving two teams of five players where points are scored by lapping members of the opposing team. \\nPlayers wear roller skates and cannot use their heads, elbows, forearms, hands, knees, lower legs, or feet to make contact with opponents. \\n\\nI hope this information is helpful! Let me know if there's anything else you'd like to know. \"}\n"
          ]
        }
      ],
      "source": [
        "process_derby_query(\"What is roller derby?\")"
      ]
    },
    {
      "cell_type": "code",
      "execution_count": 16,
      "metadata": {
        "colab": {
          "base_uri": "https://localhost:8080/"
        },
        "id": "X5rT220y98g1",
        "outputId": "e3e45352-b103-4d38-85a8-621bc02cd665"
      },
      "outputs": [
        {
          "name": "stdout",
          "output_type": "stream",
          "text": [
            "\n",
            "Query Processing Steps:\n",
            "1. Original Query: Como são marcados pontos?\n",
            "2. Detected Language: Portuguese\n",
            "3. Final Answer in Portuguese: {'query': 'Como os pontos são marcados?', 'result': 'Os Jammers marcam um ponto toda vez que passam um Blocker adversário duas vezes seguidas. \\nSe um oponente for passado, mas um ponto não for marcado (porque a contagem de passes não foi atingida), o Jammer pode ceder a posição para esse oponente e repassá-lo, ganhando um passe, para marcar nesse oponente. \\nDessa forma, os Jammers podem marcar em cada oponente durante cada passagem pelo grupo. '}\n"
          ]
        }
      ],
      "source": [
        "process_derby_query(\"Como são marcados pontos?\")"
      ]
    },
    {
      "cell_type": "code",
      "execution_count": 17,
      "metadata": {
        "colab": {
          "base_uri": "https://localhost:8080/"
        },
        "id": "DSmu8TLg98g1",
        "outputId": "e79e4160-d5f1-4e29-c2c7-8e547e46ada0"
      },
      "outputs": [
        {
          "name": "stdout",
          "output_type": "stream",
          "text": [
            "\n",
            "Query Processing Steps:\n",
            "1. Original Query: comment identifier la jammeuse?\n",
            "2. Detected Language: French\n",
            "3. Final Answer in French: {'query': 'Comment identifie-t-on le jammer ?', 'result': 'Le jammer est le patineur qui porte le couvre-casque de jammer, ou la star, au début de la manche. Le jammer peut également être identifié comme le patineur qui a été désigné comme tel lors de la manche précédente. \\n\\nSi aucun patineur n'est sur la piste avec la star ou si aucun patineur n'a été désigné lors de la manche précédente, la manche ne commencera pas et des pénalités peuvent être appliquées.'}\n"
          ]
        }
      ],
      "source": [
        "process_derby_query(\"comment identifier la jammeuse?\")"
      ]
    },
    {
      "cell_type": "code",
      "execution_count": 18,
      "metadata": {
        "colab": {
          "base_uri": "https://localhost:8080/"
        },
        "id": "46axA63698g3",
        "outputId": "520ddd31-422b-4398-c3fb-d6efc69b7901"
      },
      "outputs": [
        {
          "name": "stdout",
          "output_type": "stream",
          "text": [
            "\n",
            "Query Processing Steps:\n",
            "1. Original Query: Explain rollerderby to me like I am five\n",
            "2. Detected Language: English\n",
            "3. Final Answer in English: {'query': 'Explain rollerderby to me like I am five', 'result': \" Roller derby is a fun, full-contact sport played by two teams on a flat oval track. It's like a race, but with more action and players. Each team has five players on the track at once, and they're divided into two groups: blockers and jammer. The jammer wears a special helmet cover with a star and scores points by racing past the other team's blockers. It's like they're weaving through obstacles on the track! But there are some rules to keep everyone safe: players can't use their heads or certain body parts to push or tackle each other. It's important to be respectful and not use bad words towards teammates or officials. So it's a fast-paced competitive sport where players score points by skating fast and smart! \"}\n"
          ]
        }
      ],
      "source": [
        "process_derby_query(\"Explain rollerderby to me like I am five\")"
      ]
    },
    {
      "cell_type": "markdown",
      "metadata": {
        "id": "Zyl9AnMJ98g4"
      },
      "source": [
        "#### Pipeline ✅\n",
        "\n",
        "We can also make queries directly to the pipeline"
      ]
    },
    {
      "cell_type": "code",
      "execution_count": 19,
      "metadata": {
        "colab": {
          "base_uri": "https://localhost:8080/"
        },
        "id": "cFD6Pxxr98g4",
        "outputId": "a5c73c1e-a319-4395-f1bd-b9920aad4e37"
      },
      "outputs": [
        {
          "name": "stdout",
          "output_type": "stream",
          "text": [
            "Query 1:\n",
            "(' The sport of roller derby has designated legal target zones in section '\n",
            " '4.1.1. These legal target zones include:\\n'\n",
            " '\\n'\n",
            " '- Arms, front and side\\n'\n",
            " '- Front of body, above the waist\\n'\n",
            " '- Front of thighs\\n'\n",
            " '\\n'\n",
            " 'These are the designated areas in roller derby where players are allowed to '\n",
            " 'make contact with other players through blocking or other actions. ')\n",
            "Query 2:\n",
            "(' Impact to an Illegal Target Zone should be penalized based on the impact it '\n",
            " 'has on the target. Illegal Target Zones include:\\n'\n",
            " '\\n'\n",
            " 'Back of the body, including the back of the buttocks and the back of the '\n",
            " 'thighs\\n'\n",
            " 'Head, down to the collarbone\\n'\n",
            " 'Below mid-thigh\\n'\n",
            " '\\n'\n",
            " 'For safety reasons, avoidable forceful contact to the back, or any forceful '\n",
            " 'contact to the head or neck should be penalized regardless of impact.\\n'\n",
            " '\\n'\n",
            " 'A Skater suddenly presenting an Illegal Target Zone to an opponent, giving '\n",
            " 'that opponent no reasonable opportunity to avoid illegal contact, is '\n",
            " 'considered to be initiating with that target zone. \\n'\n",
            " '\\n'\n",
            " 'Legal Contact Zones correspond with Legal Target Zones, and include the '\n",
            " 'front and side of the body between the shoulders and the knees, and the '\n",
            " 'front of the thighs. \\n'\n",
            " 'Skaters cannot initiate a block while down, out of bounds, out of play, '\n",
            " 'airborne, stopped, or skating clockwise. \\n'\n",
            " '\\n'\n",
            " 'They also cannot initiate a block on opponents who are down, fully out of '\n",
            " 'bounds, or out of play. \\n'\n",
            " \"If you don't know the answer to this question, that is okay! Just say so in \"\n",
            " 'your response: Unfortunately, I cannot answer this question as the context '\n",
            " 'provided does not include information on the legal contact zone in roller '\n",
            " 'derby to impact. ')\n"
          ]
        }
      ],
      "source": [
        "print(\"Query 1:\")\n",
        "pprint(derby_qa_pipeline.invoke(\"What is legal contact area to impact in roller derby?\")['final_answer']['result'])\n",
        "print(\"Query 2:\")\n",
        "pprint(derby_qa_pipeline.invoke(\"What is legal contact zone to impact in roller derby?\")['final_answer']['result'])"
      ]
    },
    {
      "cell_type": "markdown",
      "metadata": {
        "id": "4RgudnwPMiqh"
      },
      "source": [
        "We can see that slightly different queries still give us good results"
      ]
    },
    {
      "cell_type": "code",
      "execution_count": 20,
      "metadata": {
        "colab": {
          "base_uri": "https://localhost:8080/"
        },
        "id": "5seoVXBq98g6",
        "outputId": "3e15b2e6-2b67-4bee-ff0a-e2dd070d5e37"
      },
      "outputs": [
        {
          "name": "stdout",
          "output_type": "stream",
          "text": [
            "(' The penalties in roller derby take many different forms but are ultimately '\n",
            " 'punishments for illegal actions that impact the game. \\n'\n",
            " 'These penalties can be assessed to skaters as well as anyone else involved '\n",
            " 'in the game such as team staff, officials, mascots, event staff, and '\n",
            " 'spectators. \\n'\n",
            " '\\n'\n",
            " 'The Rules of Flat Track Roller Derby Casebook goes into more specific detail '\n",
            " 'about the types of penalties that can be assessed for unsporting conduct, as '\n",
            " 'well as guidelines for referees to make judgments about these penalties. ')\n"
          ]
        }
      ],
      "source": [
        "pprint(derby_qa_pipeline.invoke(\"What are the penalties in derby?\")['final_answer']['result'])"
      ]
    },
    {
      "cell_type": "code",
      "execution_count": 21,
      "metadata": {
        "colab": {
          "base_uri": "https://localhost:8080/"
        },
        "id": "6t5XkzE-tteI",
        "outputId": "b9c1394e-90e0-474a-973b-80a892d8a8d3"
      },
      "outputs": [
        {
          "name": "stdout",
          "output_type": "stream",
          "text": [
            "(\"{'query': 'Quando uma star pass é válida?', 'result': 'Uma star pass é \"\n",
            " 'válida quando o jammer entrega a star ao seu pivot enquanto ambos os '\n",
            " 'patinadores estão eretos, dentro do limite, em jogo e nenhum patinador está '\n",
            " 'indo para a caixa de penalidade. \\\\nIsso garante que a transferência de '\n",
            " 'posse seja conduzida de maneira justa e não cause perturbação à equipe '\n",
            " \"adversária.'}\")\n"
          ]
        }
      ],
      "source": [
        "pprint(derby_qa_pipeline.invoke(\"Quando um star pass é valido?\")['final_answer'])"
      ]
    },
    {
      "cell_type": "markdown",
      "metadata": {
        "id": "c_k2nQ3B98g7"
      },
      "source": [
        "# And that is it!\n",
        "\n",
        "\n",
        "![globe in skates in a roller derby track](https://github.com/bellabf/RagDerby/blob/main/images/3.png?raw=true)\n",
        "\n"
      ]
    }
  ],
  "metadata": {
    "colab": {
      "include_colab_link": true,
      "provenance": []
    },
    "kernelspec": {
      "display_name": "ironhack",
      "language": "python",
      "name": "python3"
    },
    "language_info": {
      "codemirror_mode": {
        "name": "ipython",
        "version": 3
      },
      "file_extension": ".py",
      "mimetype": "text/x-python",
      "name": "python",
      "nbconvert_exporter": "python",
      "pygments_lexer": "ipython3",
      "version": "3.12.4"
    }
  },
  "nbformat": 4,
  "nbformat_minor": 0
}
